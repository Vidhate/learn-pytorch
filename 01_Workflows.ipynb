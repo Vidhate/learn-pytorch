{
 "cells": [
  {
   "cell_type": "markdown",
   "id": "28753c6c",
   "metadata": {},
   "source": [
    "# 01 PyTorch Workflow Fundamentals\n",
    "Link to lesson - https://www.learnpytorch.io/01_pytorch_workflow/"
   ]
  },
  {
   "cell_type": "code",
   "execution_count": 1,
   "id": "ea649db4",
   "metadata": {},
   "outputs": [],
   "source": [
    "%load_ext autoreload\n",
    "%autoreload 2"
   ]
  },
  {
   "cell_type": "code",
   "execution_count": 6,
   "id": "80917382",
   "metadata": {},
   "outputs": [
    {
     "data": {
      "text/plain": [
       "'1.13.1'"
      ]
     },
     "execution_count": 6,
     "metadata": {},
     "output_type": "execute_result"
    }
   ],
   "source": [
    "import torch\n",
    "torch.__version__"
   ]
  },
  {
   "cell_type": "code",
   "execution_count": null,
   "id": "58a8f559",
   "metadata": {},
   "outputs": [],
   "source": []
  },
  {
   "cell_type": "code",
   "execution_count": 3,
   "id": "e154b821",
   "metadata": {},
   "outputs": [],
   "source": [
    "import os\n",
    "from torch import nn\n",
    "import matplotlib.pyplot as plt"
   ]
  },
  {
   "cell_type": "code",
   "execution_count": null,
   "id": "009e0db2",
   "metadata": {},
   "outputs": [],
   "source": []
  },
  {
   "cell_type": "markdown",
   "id": "f6ecfec8",
   "metadata": {},
   "source": [
    "## Important Learnings\n",
    "1. Learn to visualize the data whenever you can  \n",
    "2. Any model can be built as Python classes that subclass pytorch's nn.Module  \n",
    "    - Implementing the forward function inside your model class is necessary if it subclasses nn.Module  \n",
    "    - nn.Module provides functionality to track bunch of very important stuff that you define in your model  \n",
    "3. Usual training cycle is to forward pass, compute loss, clear optimizer gradients accumulated over previous steps, propagate loss backwards (which auto computes gradients wrt each trainable parameter), adjust weights using optimizer step, and repeat over epochs  \n",
    "    - More details on how backprop happens in pt and computation of gradients in a separate section below  \n",
    "    - This also sheds light on how to set and unset gradient calculation in pt models - which is helpful to get a deep understanding of how to setup model for training, inference, evaluation etc.  \n",
    "4. PyTorch recommends loading and saving models via state_dict rather than the entire model [https://pytorch.org/tutorials/beginner/saving_loading_models.html#save-load-entire-model]  \n",
    "    - Saving the entire model (i.e. class) is not recommended as pickling will instead of saving the class as it is, save the path to the script that defines the class, creating a strong dependency on having the exact same directory structure (or path) to where the script defining the class is when later loading.  \n",
    "    - The state_dict can on the other hand be saved as it is and loaded into a reconstructed model safely again  \n",
    "5. The state_dict returned by __model.state\\_dict( )__ is only a reference to the state_dict object. Meaning if I wish to store the state_dict of my best model, I will have to either pickle state_dict at every epoch or make a deepcopy of the one returned by model.state_dict(), else it'll get updated over future iterations and I'll lose it even if I only called this for the best model [https://pytorch.org/tutorials/beginner/saving_loading_models.html#save-load-state-dict-recommended]  \n",
    "6. Difference between __torch.randn__ and __torch.rand__ to create a random number filled tensor of given shape is _randn()_ samples random numbers from a normal distribution with mean=0, std=1; while _rand()_ samples random numbers from a uniform distribution in the range \\[0,1)"
   ]
  },
  {
   "cell_type": "markdown",
   "id": "efc22324",
   "metadata": {},
   "source": [
    "## AutoGrad & BackPropagation\n",
    "AutoGrad is pytorch's automatic differentiation system to propagate loss backwards through every parameter of your model. It works by creating a DAG where the leaves are input tensors and the roots are outputs. Gradient is computed by consuming loss at the roots and driving back on the graph from roots to leaves, accumulating gradients at every node. [https://pytorch.org/docs/stable/notes/autograd.html#locally-disable-grad-doc]  \n",
    "Important glances in this process -   \n",
    "1. PT computes a autograd graph every time a forward pass is run. That means in every forward pass, a new graph is computed - giving us the flexibility to have custom forward pass in every iteration (potentially)  \n",
    "    - all gradients are stored in the tensor's parameter _.grad_   \n",
    "2. The gradient is defined by the __grad\\_fn( )__ associated with any tensor that has _requires\\_grad=True_ set  \n",
    "    - PT has defined gradients of common functions  \n",
    "    - PT also saves the input tensors for those _grad_fn( )_ for which it has internal support  \n",
    "3. AutoGrad can only be run on elementary functions or composite functions whose elementary function elements have an internal support in PT. Support is defined not just as having a differentiation formula - it's a much more complex series of steps that PT checks and is able to use non-differentiable functions like relu with AutoGrad. Check steps here [https://pytorch.org/docs/stable/notes/autograd.html#gradients-for-non-differentiable-functions]  \n",
    "  \n",
    "  \n",
    "It is often important to disable AutoGrad for models or specific parts of a model - like during testing, evaluation and inference. PT can do this in various different ways given below -  \n",
    "1. Setting __requires\\_grad=False__   \n",
    "    - a graph node is recorded for AutoGrad only if at least one of the input tensors has _requires\\_grad=True_  \n",
    "    - this implies that only the input tensors really need requires_grad to be set, every following computation deriving from these input tensors will automatically be gradient enabled   \n",
    "    - using this any parts of the model can be frozen  \n",
    "    - remember settig any tensor (parameter) to requires_grad=False will freeze any following parameters that use only this as input - entire parts of models can be frozen this way  \n",
    "    - all the parameters of a model can also be frozen by using _requires\\_grad\\_()_ on the model  \n",
    "    - use __.requires\\_grad\\_( bool )__ to set a tensor's param at any time during computation  \n",
    "2. Using context managers  \n",
    "    - __torch.no\\_grad( )__ this acts as if all input tensors to model are set to requires_grad == False  \n",
    "        - Note it doesn't actually set these tensors to require_grad==False, just acts as if that was done  \n",
    "        - Tensors created in this mode can be used beyond the context manager to be recorded in AutoGrad's graph if needed  \n",
    "    - __torch.inference\\_mode( )__ this is an extreme version of above with better speedup in computations  \n",
    "        - Tensors created in this mode cannot be used beyond the context manager to be recorded in AutoGrad's graph  \n",
    "    - __model.eval( )/model.train(False)__ this is completely different from both above  \n",
    "        - This should be used to set parts of your network that should behave differently if they're being used for evaluation only like BatchNorm and DropOut  \n",
    "        - One should always set model to eval when evaluation or inference agnostic of requires grad  "
   ]
  },
  {
   "cell_type": "markdown",
   "id": "1a96cd5f",
   "metadata": {},
   "source": [
    "## Deeper dive into torch.nn"
   ]
  },
  {
   "cell_type": "code",
   "execution_count": null,
   "id": "0086eac1",
   "metadata": {},
   "outputs": [],
   "source": []
  },
  {
   "cell_type": "markdown",
   "id": "63e0f2cd",
   "metadata": {},
   "source": [
    "### Creating Dummy Data"
   ]
  },
  {
   "cell_type": "code",
   "execution_count": 7,
   "id": "9c92a7a4",
   "metadata": {},
   "outputs": [],
   "source": [
    "weight, bias = 0.7, 0.3\n",
    "start, end, step = 0, 1, 0.02\n",
    "X = torch.arange(start, end, step)\n",
    "y = weight*X + bias"
   ]
  },
  {
   "cell_type": "code",
   "execution_count": 8,
   "id": "074daa76",
   "metadata": {},
   "outputs": [
    {
     "data": {
      "text/plain": [
       "(tensor([0.0000, 0.0200, 0.0400, 0.0600, 0.0800, 0.1000, 0.1200, 0.1400, 0.1600,\n",
       "         0.1800]),\n",
       " tensor([0.3000, 0.3140, 0.3280, 0.3420, 0.3560, 0.3700, 0.3840, 0.3980, 0.4120,\n",
       "         0.4260]))"
      ]
     },
     "execution_count": 8,
     "metadata": {},
     "output_type": "execute_result"
    }
   ],
   "source": [
    "X[:10], y[:10]"
   ]
  },
  {
   "cell_type": "code",
   "execution_count": null,
   "id": "3837b245",
   "metadata": {},
   "outputs": [],
   "source": []
  },
  {
   "cell_type": "markdown",
   "id": "7853d4af",
   "metadata": {},
   "source": [
    "### Preparing Data\n",
    "1. Splitting into train, test  \n",
    "2. Visualizing data"
   ]
  },
  {
   "cell_type": "code",
   "execution_count": 9,
   "id": "06418c02",
   "metadata": {},
   "outputs": [
    {
     "data": {
      "text/plain": [
       "(40, 10, 40, 10)"
      ]
     },
     "execution_count": 9,
     "metadata": {},
     "output_type": "execute_result"
    }
   ],
   "source": [
    "train_frac = int(0.8*len(X))\n",
    "X_train, X_test = X[:train_frac], X[train_frac:]\n",
    "y_train, y_test = y[:train_frac], y[train_frac:]\n",
    "len(X_train), len(X_test), len(y_train), len(y_test)"
   ]
  },
  {
   "cell_type": "code",
   "execution_count": 10,
   "id": "b705963d",
   "metadata": {},
   "outputs": [],
   "source": [
    "def plot_predictions(train_data=X_train, train_labels=y_train, test_data=X_test, test_labels=y_test, predictions=None):\n",
    "    \n",
    "    plt.figure(figsize=(8,5))\n",
    "    plt.scatter(train_data, train_labels, s=4, label=\"Train\")\n",
    "    plt.scatter(test_data, test_labels, s=4, label=\"Test\")\n",
    "    if not predictions is None:\n",
    "        plt.scatter(test_data, predictions, s=4, label=\"Pred\")\n",
    "        \n",
    "    plt.legend()\n",
    "    plt.show()"
   ]
  },
  {
   "cell_type": "code",
   "execution_count": 11,
   "id": "7383ebb7",
   "metadata": {},
   "outputs": [
    {
     "data": {
      "image/png": "[encoded data removed]",
      "text/plain": [
       "<Figure size 800x500 with 1 Axes>"
      ]
     },
     "metadata": {},
     "output_type": "display_data"
    }
   ],
   "source": [
    "plot_predictions(X_train, y_train, X_test, y_test)"
   ]
  },
  {
   "cell_type": "code",
   "execution_count": null,
   "id": "0193e97e",
   "metadata": {},
   "outputs": [],
   "source": []
  },
  {
   "cell_type": "code",
   "execution_count": null,
   "id": "347bb11c",
   "metadata": {},
   "outputs": [],
   "source": []
  },
  {
   "cell_type": "markdown",
   "id": "314aba12",
   "metadata": {},
   "source": [
    "### Building the model\n",
    "1. Any pytorch model can be built as a class that subclasses nn.Module  \n",
    "2. nn.Module is a base class for any neural network in PyTorch (what exactly does this class code for?)  \n",
    "3. When subclassing on nn.Module, a forward function should necessarily be define (my guess is this overloads the forward in nn.Module)  \n",
    "4. __.parameters( )__ _(function)_ that returns an interator over all parameters defined in your model  \n",
    "5. __.state_dict( )__ _(function)_ that returns a reference to all the parameters in your model as a python ordered dict  \n",
    "6. __torch.inference_mode( )__ _(function)_ is a context manager that turns off many overhead computations of pytorch like gradient computing and graph creation etc. This is similar to torch.no_grad( ) but faster than it as it let's go of more overhead than the latter  \n"
   ]
  },
  {
   "cell_type": "code",
   "execution_count": null,
   "id": "ea6afcd5",
   "metadata": {},
   "outputs": [],
   "source": []
  },
  {
   "cell_type": "code",
   "execution_count": 9,
   "id": "cb16791b",
   "metadata": {},
   "outputs": [],
   "source": [
    "class LinearRegressionModel(nn.Module):\n",
    "    def __init__(self):\n",
    "        super().__init__()\n",
    "        self.weight = nn.Parameter(torch.randn(1, requires_grad=True))\n",
    "        self.bias = nn.Parameter(torch.randn(1, requires_grad=True))\n",
    "        \n",
    "    def forward(self, x: torch.Tensor) -> torch.Tensor:\n",
    "        return self.weight*x + self.bias"
   ]
  },
  {
   "cell_type": "code",
   "execution_count": 10,
   "id": "559e793a",
   "metadata": {},
   "outputs": [
    {
     "data": {
      "text/plain": [
       "<torch._C.Generator at 0x105d8e770>"
      ]
     },
     "execution_count": 10,
     "metadata": {},
     "output_type": "execute_result"
    }
   ],
   "source": [
    "seed = 42\n",
    "torch.manual_seed(seed)"
   ]
  },
  {
   "cell_type": "code",
   "execution_count": 11,
   "id": "afc10537",
   "metadata": {},
   "outputs": [],
   "source": [
    "model0 = LinearRegressionModel()"
   ]
  },
  {
   "cell_type": "code",
   "execution_count": 12,
   "id": "af7004ac",
   "metadata": {},
   "outputs": [
    {
     "data": {
      "text/plain": [
       "[Parameter containing:\n",
       " tensor([0.3367], requires_grad=True),\n",
       " Parameter containing:\n",
       " tensor([0.1288], requires_grad=True)]"
      ]
     },
     "execution_count": 12,
     "metadata": {},
     "output_type": "execute_result"
    }
   ],
   "source": [
    "list(model0.parameters())"
   ]
  },
  {
   "cell_type": "code",
   "execution_count": 13,
   "id": "0e986e9a",
   "metadata": {},
   "outputs": [
    {
     "data": {
      "text/plain": [
       "OrderedDict([('weight', tensor([0.3367])), ('bias', tensor([0.1288]))])"
      ]
     },
     "execution_count": 13,
     "metadata": {},
     "output_type": "execute_result"
    }
   ],
   "source": [
    "model0.state_dict()"
   ]
  },
  {
   "cell_type": "code",
   "execution_count": 14,
   "id": "22e87514",
   "metadata": {},
   "outputs": [],
   "source": [
    "with torch.inference_mode():\n",
    "    y_pred = model0(X_test)"
   ]
  },
  {
   "cell_type": "code",
   "execution_count": 15,
   "id": "9d771d02",
   "metadata": {},
   "outputs": [
    {
     "data": {
      "text/plain": [
       "tensor([0.3982, 0.4049, 0.4116, 0.4184, 0.4251, 0.4318, 0.4386, 0.4453, 0.4520,\n",
       "        0.4588])"
      ]
     },
     "execution_count": 15,
     "metadata": {},
     "output_type": "execute_result"
    }
   ],
   "source": [
    "y_pred"
   ]
  },
  {
   "cell_type": "code",
   "execution_count": 16,
   "id": "ca8fc916",
   "metadata": {},
   "outputs": [
    {
     "data": {
      "image/png": "[encoded data removed]",
      "text/plain": [
       "<Figure size 800x500 with 1 Axes>"
      ]
     },
     "metadata": {},
     "output_type": "display_data"
    }
   ],
   "source": [
    "plot_predictions(X_train, y_train, X_test, y_test, y_pred)"
   ]
  },
  {
   "cell_type": "code",
   "execution_count": 17,
   "id": "33443adb",
   "metadata": {},
   "outputs": [
    {
     "data": {
      "text/plain": [
       "tensor([0.4618, 0.4691, 0.4764, 0.4836, 0.4909, 0.4982, 0.5054, 0.5127, 0.5200,\n",
       "        0.5272])"
      ]
     },
     "execution_count": 17,
     "metadata": {},
     "output_type": "execute_result"
    }
   ],
   "source": [
    "errors = y_test - y_pred\n",
    "errors"
   ]
  },
  {
   "cell_type": "code",
   "execution_count": null,
   "id": "fd262dc1",
   "metadata": {},
   "outputs": [],
   "source": []
  },
  {
   "cell_type": "code",
   "execution_count": null,
   "id": "8d8f2db2",
   "metadata": {},
   "outputs": [],
   "source": []
  },
  {
   "cell_type": "markdown",
   "id": "2e0cf66a",
   "metadata": {},
   "source": [
    "### Training the model\n",
    "1. Choosing an optimization method decides what formulae will be used to fit the model - Stochastic Gradient Descent is one of them, antother popular is Adam. __torch.optim.SGD( )/torch.optim.Adam( )__  \n",
    "2. The optimization method will minimize/maximize a certain loss/probability  \n",
    "    - Usually the Mean Absolute Error (MAE) __torch.nn.L1Loss( )__ is considered great for regression problem  \n",
    "    - and the Binary Cross Entropy loss __torch.nn.BCE( )__ is considered awesome for binary classification problems   \n",
    "3. The train loop in pt  \n",
    "    - put the model in train mode (two modes = train, eval), by default the model is in train mode  \n",
    "    - forward pass on train data  \n",
    "    - compute loss from this pass with the chosen loss function  \n",
    "    - clear optimizer gradients - it will accumulate over every pass  \n",
    "    - backprop ie. compute gradient wrt every gradient=True parameter in your model  \n",
    "    - have the optimizer update the parameters given the loss   \n",
    "4. For every n epochs we save the epoch number and the train and test loss, this helps us visualize if the loss is going down with more training or not  "
   ]
  },
  {
   "cell_type": "code",
   "execution_count": 18,
   "id": "00b2a4a8",
   "metadata": {},
   "outputs": [],
   "source": [
    "loss_function = nn.L1Loss()"
   ]
  },
  {
   "cell_type": "code",
   "execution_count": 19,
   "id": "6c97d197",
   "metadata": {},
   "outputs": [],
   "source": [
    "optimizer = torch.optim.SGD(params = model0.parameters(), lr = 0.01)"
   ]
  },
  {
   "cell_type": "code",
   "execution_count": 1,
   "id": "818a49c9",
   "metadata": {},
   "outputs": [
    {
     "ename": "NameError",
     "evalue": "name 'torch' is not defined",
     "output_type": "error",
     "traceback": [
      "\u001b[0;31m---------------------------------------------------------------------------\u001b[0m",
      "\u001b[0;31mNameError\u001b[0m                                 Traceback (most recent call last)",
      "Cell \u001b[0;32mIn[1], line 1\u001b[0m\n\u001b[0;32m----> 1\u001b[0m \u001b[43mtorch\u001b[49m\u001b[38;5;241m.\u001b[39mmanual_seed(\u001b[38;5;241m42\u001b[39m)\n\u001b[1;32m      3\u001b[0m epochs \u001b[38;5;241m=\u001b[39m \u001b[38;5;241m100\u001b[39m\n\u001b[1;32m      4\u001b[0m train_loss, test_loss, epoch_count \u001b[38;5;241m=\u001b[39m [], [], []\n",
      "\u001b[0;31mNameError\u001b[0m: name 'torch' is not defined"
     ]
    }
   ],
   "source": [
    "torch.manual_seed(42)\n",
    "\n",
    "epochs = 100\n",
    "train_loss, test_loss, epoch_count = [], [], []\n",
    "\n",
    "for epoch in range(epochs):\n",
    "    \n",
    "    model0.train()\n",
    "    y_pred = model0(X_train)\n",
    "    loss = loss_function(y_pred, y_train)\n",
    "    optimizer.zero_grad()\n",
    "    loss.backward()\n",
    "    optimizer.step()\n",
    "    \n",
    "    model0.eval()\n",
    "    with torch.inference_mode():\n",
    "        test_pred = model0(X_test)\n",
    "        eval_loss = loss_function(test_pred, y_test.type(torch.float))\n",
    "        \n",
    "        if epoch%10==0:\n",
    "            epoch_count.append(epoch//10)\n",
    "            train_loss.append(loss.detach().numpy())\n",
    "            test_loss.append(eval_loss.detach().numpy())\n",
    "            print(f\"Epoch : {epoch//10} | MAE train loss : {loss} | MAE test loss : {eval_loss}\\n\")"
   ]
  },
  {
   "cell_type": "code",
   "execution_count": 22,
   "id": "8014527f",
   "metadata": {},
   "outputs": [
    {
     "data": {
      "text/plain": [
       "[]"
      ]
     },
     "execution_count": 22,
     "metadata": {},
     "output_type": "execute_result"
    },
    {
     "data": {
      "image/png": "[encoded data removed]",
      "text/plain": [
       "<Figure size 640x480 with 1 Axes>"
      ]
     },
     "metadata": {},
     "output_type": "display_data"
    }
   ],
   "source": [
    "plt.plot(epoch_count, train_loss, label=\"Train Loss\")\n",
    "plt.plot(epoch_count, test_loss, label=\"Test Loss\")\n",
    "plt.xlabel(\"Epochs\")\n",
    "plt.ylabel(\"Loss\")\n",
    "plt.legend()\n",
    "plt.plot()"
   ]
  },
  {
   "cell_type": "code",
   "execution_count": 23,
   "id": "b1f8deeb",
   "metadata": {},
   "outputs": [
    {
     "data": {
      "text/plain": [
       "OrderedDict([('weight', tensor([0.5784])), ('bias', tensor([0.3513]))])"
      ]
     },
     "execution_count": 23,
     "metadata": {},
     "output_type": "execute_result"
    }
   ],
   "source": [
    "model0.state_dict()"
   ]
  },
  {
   "cell_type": "code",
   "execution_count": 24,
   "id": "07c00aa5",
   "metadata": {},
   "outputs": [
    {
     "data": {
      "text/plain": [
       "(0.7, 0.3)"
      ]
     },
     "execution_count": 24,
     "metadata": {},
     "output_type": "execute_result"
    }
   ],
   "source": [
    "weight, bias"
   ]
  },
  {
   "cell_type": "code",
   "execution_count": null,
   "id": "75c985e3",
   "metadata": {},
   "outputs": [],
   "source": []
  },
  {
   "cell_type": "markdown",
   "id": "72d9d3b0",
   "metadata": {},
   "source": [
    "### Inference using model\n",
    "1. Set the model on eval mode and use with inference_mode context manager  \n",
    "2. Make sure both data and model are on the same device, either cpu or gpu  "
   ]
  },
  {
   "cell_type": "code",
   "execution_count": 25,
   "id": "44be8752",
   "metadata": {},
   "outputs": [
    {
     "data": {
      "text/plain": [
       "tensor([0.8141, 0.8256, 0.8372, 0.8488, 0.8603, 0.8719, 0.8835, 0.8950, 0.9066,\n",
       "        0.9182])"
      ]
     },
     "execution_count": 25,
     "metadata": {},
     "output_type": "execute_result"
    }
   ],
   "source": [
    "model0.eval()\n",
    "with torch.inference_mode():\n",
    "    y_pred = model0(X_test)\n",
    "y_pred"
   ]
  },
  {
   "cell_type": "code",
   "execution_count": 28,
   "id": "1807ed16",
   "metadata": {},
   "outputs": [
    {
     "data": {
      "image/png": "[encoded data removed]",
      "text/plain": [
       "<Figure size 800x500 with 1 Axes>"
      ]
     },
     "metadata": {},
     "output_type": "display_data"
    }
   ],
   "source": [
    "plot_predictions(predictions=y_pred)"
   ]
  },
  {
   "cell_type": "code",
   "execution_count": null,
   "id": "aa27cf7e",
   "metadata": {},
   "outputs": [],
   "source": []
  },
  {
   "cell_type": "code",
   "execution_count": null,
   "id": "c3be6c25",
   "metadata": {},
   "outputs": [],
   "source": []
  },
  {
   "cell_type": "markdown",
   "id": "a7d0311c",
   "metadata": {},
   "source": [
    "### Loading and Saving PyTorch models\n",
    "1. __torch.save( )__ pt's pickler that serialized models, tensors, state_dicts and other python objects as well and saved to disk, usually saved with a `.pt` or `.pth` extension    \n",
    "2. __torch.load( )__ pt's unpickler to deseralize any object, can be loaded to a specific device as well  \n",
    "3. __model.load\\_state\\_dict( torch.load( _path-to-saved-state-dict_ ) )__ to load a model's parameter state_dict from disk into another model - this is the recommended method to load models by pt docs   "
   ]
  },
  {
   "cell_type": "code",
   "execution_count": 31,
   "id": "b8852694",
   "metadata": {},
   "outputs": [],
   "source": [
    "#os.mkdir(\"models\")"
   ]
  },
  {
   "cell_type": "code",
   "execution_count": 40,
   "id": "f539af1c",
   "metadata": {},
   "outputs": [],
   "source": [
    "torch.save(model0.state_dict(), \"models/linear_regressor_0.pt\")"
   ]
  },
  {
   "cell_type": "code",
   "execution_count": 42,
   "id": "ed11b556",
   "metadata": {},
   "outputs": [
    {
     "name": "stdout",
     "output_type": "stream",
     "text": [
      "linear_regressor_0.pt\r\n"
     ]
    }
   ],
   "source": [
    "!ls models"
   ]
  },
  {
   "cell_type": "code",
   "execution_count": 43,
   "id": "6c7855a9",
   "metadata": {},
   "outputs": [],
   "source": [
    "loaded_state_dict = torch.load(\"models/linear_regressor_0.pt\")"
   ]
  },
  {
   "cell_type": "code",
   "execution_count": 44,
   "id": "deb57734",
   "metadata": {},
   "outputs": [
    {
     "data": {
      "text/plain": [
       "<All keys matched successfully>"
      ]
     },
     "execution_count": 44,
     "metadata": {},
     "output_type": "execute_result"
    }
   ],
   "source": [
    "regressor0 = LinearRegressionModel()\n",
    "regressor0.load_state_dict(loaded_state_dict)"
   ]
  },
  {
   "cell_type": "code",
   "execution_count": 45,
   "id": "0d3533e7",
   "metadata": {
    "collapsed": true
   },
   "outputs": [
    {
     "data": {
      "image/png": "[encoded data removed]",
      "text/plain": [
       "<Figure size 800x500 with 1 Axes>"
      ]
     },
     "metadata": {},
     "output_type": "display_data"
    }
   ],
   "source": [
    "regressor0.eval()\n",
    "with torch.inference_mode():\n",
    "    y_pred = regressor0(X_test)\n",
    "plot_predictions(predictions=y_pred)"
   ]
  },
  {
   "cell_type": "code",
   "execution_count": null,
   "id": "db4bdb64",
   "metadata": {},
   "outputs": [],
   "source": []
  },
  {
   "cell_type": "code",
   "execution_count": null,
   "id": "b227ef76",
   "metadata": {},
   "outputs": [],
   "source": []
  },
  {
   "cell_type": "markdown",
   "id": "12639e3e",
   "metadata": {},
   "source": [
    "### Revision of all steps above"
   ]
  },
  {
   "cell_type": "code",
   "execution_count": 12,
   "id": "37d4e7da",
   "metadata": {},
   "outputs": [],
   "source": [
    "import os\n",
    "\n",
    "import torch\n",
    "from torch import nn\n",
    "import matplotlib.pyplot as plt"
   ]
  },
  {
   "cell_type": "code",
   "execution_count": 13,
   "id": "62dae7b8",
   "metadata": {},
   "outputs": [
    {
     "data": {
      "text/plain": [
       "'mps'"
      ]
     },
     "execution_count": 13,
     "metadata": {},
     "output_type": "execute_result"
    }
   ],
   "source": [
    "device = 'mps' if torch.backends.mps.is_available() else 'cpu'\n",
    "device"
   ]
  },
  {
   "cell_type": "code",
   "execution_count": 14,
   "id": "cd0e0a3d",
   "metadata": {},
   "outputs": [],
   "source": [
    "class LinearRegressor(nn.Module):\n",
    "    \n",
    "    def __init__(self):\n",
    "        super().__init__()\n",
    "        self.linear = nn.Linear(in_features=1, out_features=1)\n",
    "        pass\n",
    "        \n",
    "    def forward(self, x:torch.Tensor) -> torch.Tensor:\n",
    "        return self.linear(x)"
   ]
  },
  {
   "cell_type": "code",
   "execution_count": 15,
   "id": "0ba9bac3",
   "metadata": {},
   "outputs": [],
   "source": [
    "torch.manual_seed(42)\n",
    "model1 = LinearRegressor()"
   ]
  },
  {
   "cell_type": "code",
   "execution_count": 16,
   "id": "6f82b7ef",
   "metadata": {},
   "outputs": [
    {
     "data": {
      "text/plain": [
       "OrderedDict([('linear.weight', tensor([[0.7645]])),\n",
       "             ('linear.bias', tensor([0.8300]))])"
      ]
     },
     "execution_count": 16,
     "metadata": {},
     "output_type": "execute_result"
    }
   ],
   "source": [
    "model1.state_dict()"
   ]
  },
  {
   "cell_type": "code",
   "execution_count": 17,
   "id": "659dd167",
   "metadata": {},
   "outputs": [],
   "source": [
    "lossfn = nn.L1Loss()\n",
    "optSGD = torch.optim.SGD(model1.parameters(), lr=0.005)"
   ]
  },
  {
   "cell_type": "code",
   "execution_count": 18,
   "id": "5b0d4ff9",
   "metadata": {},
   "outputs": [
    {
     "name": "stderr",
     "output_type": "stream",
     "text": [
      "/Users/vidhate/envs/ice2/lib/python3.10/site-packages/torch/_tensor_str.py:115: UserWarning: The operator 'aten::nonzero' is not currently supported on the MPS backend and will fall back to run on the CPU. This may have performance implications. (Triggered internally at /Users/runner/work/pytorch/pytorch/pytorch/aten/src/ATen/mps/MPSFallback.mm:11.)\n",
      "  nonzero_finite_vals = torch.masked_select(\n"
     ]
    },
    {
     "data": {
      "text/plain": [
       "tensor([0.8600, 0.8740, 0.8880, 0.9020, 0.9160, 0.9300, 0.9440, 0.9580, 0.9720,\n",
       "        0.9860], device='mps:0')"
      ]
     },
     "execution_count": 18,
     "metadata": {},
     "output_type": "execute_result"
    }
   ],
   "source": [
    "model1.to(device)\n",
    "X_train.to(device)\n",
    "X_test.to(device)\n",
    "y_train.to(device)\n",
    "y_test.to(device)"
   ]
  },
  {
   "cell_type": "code",
   "execution_count": null,
   "id": "57f04fd9",
   "metadata": {},
   "outputs": [],
   "source": [
    "epochs = 200\n",
    "train_loss2, eval_loss2, epoch_count = [], [], []\n",
    "batches = \n",
    "\n",
    "for epoch in range(epochs):\n",
    "    model1.train()\n",
    "    pred = model1(X_train)\n",
    "    tloss = lossfn(pred, y_train)\n",
    "    optSGD.zero_grad()\n",
    "    tloss.backward()\n",
    "    optSGD.step()\n",
    "    \n",
    "    if epoch%10 == 0:\n",
    "        model1.eval()\n",
    "        with torch.inference_mode():\n",
    "\n",
    "            y_pred = model1(X_test)\n",
    "            eloss = lossfn(y_pred, y_test.type(torch.float))\n",
    "            epoch_count.append(epoch//10)\n",
    "            train_loss2.append(tloss)\n",
    "            eval_loss2.append(eloss)\n",
    "            \n",
    "            print(f\"Epoch : {epoch} | MAE train : {tloss} | MAE eval : {eloss}\\n\")"
   ]
  },
  {
   "cell_type": "code",
   "execution_count": 74,
   "id": "61c6acf2",
   "metadata": {},
   "outputs": [
    {
     "data": {
      "text/plain": [
       "tensor([0.8139, 0.8255, 0.8370, 0.8486, 0.8602, 0.8718, 0.8833, 0.8949, 0.9065,\n",
       "        0.9180])"
      ]
     },
     "execution_count": 74,
     "metadata": {},
     "output_type": "execute_result"
    }
   ],
   "source": [
    "model1.eval()\n",
    "with torch.inference_mode():\n",
    "    y_pred = model1(X_test)\n",
    "y_pred"
   ]
  },
  {
   "cell_type": "code",
   "execution_count": 76,
   "id": "1aaac77f",
   "metadata": {},
   "outputs": [],
   "source": [
    "torch.save(model1.state_dict(), \"models/linear_regressor_1.pth\")"
   ]
  },
  {
   "cell_type": "code",
   "execution_count": 81,
   "id": "59b526e8",
   "metadata": {},
   "outputs": [
    {
     "data": {
      "text/plain": [
       "<All keys matched successfully>"
      ]
     },
     "execution_count": 81,
     "metadata": {},
     "output_type": "execute_result"
    }
   ],
   "source": [
    "loaded_state_dict1 = torch.load(\"models/linear_regressor_1.pth\")\n",
    "model1_copy = LinearRegressor()\n",
    "model1_copy.load_state_dict(loaded_state_dict1)"
   ]
  },
  {
   "cell_type": "code",
   "execution_count": 82,
   "id": "419bcc7f",
   "metadata": {},
   "outputs": [
    {
     "data": {
      "text/plain": [
       "tensor([True, True, True, True, True, True, True, True, True, True])"
      ]
     },
     "execution_count": 82,
     "metadata": {},
     "output_type": "execute_result"
    }
   ],
   "source": [
    "model1_copy.eval()\n",
    "with torch.inference_mode():\n",
    "    y_pred2 = model1_copy(X_test)\n",
    "y_pred2==y_pred"
   ]
  },
  {
   "cell_type": "code",
   "execution_count": null,
   "id": "2026aa24",
   "metadata": {},
   "outputs": [],
   "source": []
  }
 ],
 "metadata": {
  "kernelspec": {
   "display_name": "Python 3 (ipykernel)",
   "language": "python",
   "name": "python3"
  },
  "language_info": {
   "codemirror_mode": {
    "name": "ipython",
    "version": 3
   },
   "file_extension": ".py",
   "mimetype": "text/x-python",
   "name": "python",
   "nbconvert_exporter": "python",
   "pygments_lexer": "ipython3",
   "version": "3.10.9"
  }
 },
 "nbformat": 4,
 "nbformat_minor": 5
}
